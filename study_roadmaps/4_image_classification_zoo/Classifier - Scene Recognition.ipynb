{
 "cells": [
  {
   "cell_type": "markdown",
   "metadata": {},
   "source": [
    "<a href=\"https://colab.research.google.com/github/Tessellate-Imaging/monk_v1/blob/master/study_roadmaps/4_image_classification_zoo/Classifier%20-%20Scene%20Recognition.ipynb\" target=\"_parent\"><img src=\"https://colab.research.google.com/assets/colab-badge.svg\" alt=\"Open In Colab\"/></a>"
   ]
  },
  {
   "cell_type": "code",
   "execution_count": null,
   "metadata": {},
   "outputs": [],
   "source": []
  },
  {
   "cell_type": "code",
   "execution_count": null,
   "metadata": {},
   "outputs": [],
   "source": []
  },
  {
   "cell_type": "markdown",
   "metadata": {},
   "source": [
    "# Table of contents\n",
    "\n",
    "# Install Monk\n",
    "\n",
    "# Using pretrained model for classifying elements\n",
    "\n",
    "# Training a classifier using monk's default mode"
   ]
  },
  {
   "cell_type": "code",
   "execution_count": 10,
   "metadata": {},
   "outputs": [],
   "source": [
    "import numpy as np # linear algebra\n",
    "import pandas as pd # data processing, CSV file I/O (e.g. pd.read_csv)\n",
    "import matplotlib.pyplot as plt\n",
    "from PIL import Image, ImageDraw\n",
    "import os\n",
    "import tarfile\n",
    "import urllib"
   ]
  },
  {
   "cell_type": "markdown",
   "metadata": {},
   "source": [
    "# Dataset Download\n",
    "- Credits: http://places2.csail.mit.edu/download.html\n",
    "- You can also download test images.\n",
    "- After downloading training dataset make one train folder and put all the images in train folder and make csv for label."
   ]
  },
  {
   "cell_type": "code",
   "execution_count": null,
   "metadata": {},
   "outputs": [],
   "source": [
    "url = 'http://data.csail.mit.edu/places/places365/train_256_places365standard.tar'\n",
    "file_tmp = urllib.request.urlretrieve(url, filename=None)[0]"
   ]
  },
  {
   "cell_type": "code",
   "execution_count": null,
   "metadata": {},
   "outputs": [],
   "source": [
    "base_name = os.path.basename(url)\n",
    "file_name, file_extension = os.path.splitext(base_name)\n",
    "tar = tarfile.open(file_tmp)\n",
    "tar.extractall(file_name)"
   ]
  },
  {
   "cell_type": "markdown",
   "metadata": {},
   "source": [
    "# Install Monk\n",
    "## Using pip (Recommended)\n",
    "- colab (gpu)\n",
    "  - All bakcends: pip install -U monk-colab\n",
    "- kaggle (gpu)\n",
    "  - All backends: pip install -U monk-kaggle\n",
    "- cuda 10.2\n",
    "  - All backends: pip install -U monk-cuda102\n",
    "  - Gluon bakcned: pip install -U monk-gluon-cuda102\n",
    "  - Pytorch backend: pip install -U monk-pytorch-cuda102\n",
    "  - Keras backend: pip install -U monk-keras-cuda102\n",
    "- cuda 10.1\n",
    "  - All backend: pip install -U monk-cuda101\n",
    "  - Gluon bakcned: pip install -U monk-gluon-cuda101\n",
    "  - Pytorch backend: pip install -U monk-pytorch-cuda101\n",
    "  - Keras backend: pip install -U monk-keras-cuda101\n",
    "- cuda 10.0\n",
    "  - All backend: pip install -U monk-cuda100\n",
    "  - Gluon bakcned: pip install -U monk-gluon-cuda100\n",
    "  - Pytorch backend: pip install -U monk-pytorch-cuda100\n",
    "  - Keras backend: pip install -U monk-keras-cuda100\n",
    "- cuda 9.2\n",
    "  - All backend: pip install -U monk-cuda92\n",
    "  - Gluon bakcned: pip install -U monk-gluon-cuda92\n",
    "  - Pytorch backend: pip install -U monk-pytorch-cuda92\n",
    "  - Keras backend: pip install -U monk-keras-cuda92\n",
    "- cuda 9.0\n",
    "  - All backend: pip install -U monk-cuda90\n",
    "  - Gluon bakcned: pip install -U monk-gluon-cuda90\n",
    "  - Pytorch backend: pip install -U monk-pytorch-cuda90\n",
    "  - Keras backend: pip install -U monk-keras-cuda90\n",
    "- cpu\n",
    "  - All backend: pip install -U monk-cpu\n",
    "  - Gluon bakcned: pip install -U monk-gluon-cpu\n",
    "  - Pytorch backend: pip install -U monk-pytorch-cpu\n",
    "  - Keras backend: pip install -U monk-keras-cpu"
   ]
  },
  {
   "cell_type": "code",
   "execution_count": null,
   "metadata": {},
   "outputs": [],
   "source": []
  },
  {
   "cell_type": "markdown",
   "metadata": {},
   "source": [
    "# Install Monk Manually (Not recommended)\n",
    "## Step 1: Clone the library\n",
    "- git clone https://github.com/Tessellate-Imaging/monk_v1.git\n",
    "\n",
    "## Step 2: Install requirements\n",
    "- Linux\n",
    "  - Cuda 9.0\n",
    "    - cd monk_v1/installation/Linux && pip install -r requirements_cu90.txt\n",
    "  - Cuda 9.2\n",
    "    - cd monk_v1/installation/Linux && pip install -r requirements_cu92.txt\n",
    "  - Cuda 10.0\n",
    "    - cd monk_v1/installation/Linux && pip install -r requirements_cu100.txt\n",
    "  - Cuda 10.1\n",
    "    - cd monk_v1/installation/Linux && pip install -r requirements_cu101.txt\n",
    "  - Cuda 10.2\n",
    "    - cd monk_v1/installation/Linux && pip install -r requirements_cu102.txt\n",
    "  - CPU (Non gpu system)\n",
    "    - cd monk_v1/installation/Linux && pip install -r requirements_cpu.txt\n",
    "- Windows\n",
    "  - Cuda 9.0 (Experimental support)\n",
    "    - cd monk_v1/installation/Windows && pip install -r requirements_cu90.txt\n",
    "  - Cuda 9.2 (Experimental support)\n",
    "    - cd monk_v1/installation/Windows && pip install -r requirements_cu92.txt\n",
    "  - Cuda 10.0 (Experimental support)\n",
    "    - cd monk_v1/installation/Windows && pip install -r requirements_cu100.txt\n",
    "  - Cuda 10.1 (Experimental support)\n",
    "    - cd monk_v1/installation/Windows && pip install -r requirements_cu101.txt\n",
    "  - Cuda 10.2 (Experimental support)\n",
    "    - cd monk_v1/installation/Windows && pip install -r requirements_cu102.txt\n",
    "  - CPU (Non gpu system)\n",
    "    - cd monk_v1/installation/Windows && pip install -r requirements_cpu.txt\n",
    "- Mac\n",
    "  - CPU (Non gpu system)\n",
    "    - cd monk_v1/installation/Mac && pip install -r requirements_cpu.txt\n",
    "- Misc\n",
    "  - Colab (GPU)\n",
    "    - cd monk_v1/installation/Misc && pip install -r requirements_colab.txt\n",
    "  - Kaggle (GPU)\n",
    "    - cd monk_v1/installation/Misc && pip install -r requirements_kaggle.txt\n",
    "    \n",
    "# Step 3: Add to system path (Required for every terminal or kernel run)\n",
    "  - import sys\n",
    "  - sys.path.append(\"monk_v1/\");\n",
    "  \n",
    "# Using pretrained model for classifying elements"
   ]
  },
  {
   "cell_type": "code",
   "execution_count": 15,
   "metadata": {},
   "outputs": [],
   "source": [
    "import sys\n",
    "sys.path.append(\"monk_v1/\");"
   ]
  },
  {
   "cell_type": "code",
   "execution_count": 16,
   "metadata": {},
   "outputs": [],
   "source": [
    "#Using mxnet-gluon backend \n",
    "\n",
    "# When installed using pip\n",
    "from monk.gluon_prototype import prototype\n",
    "\n",
    "\n",
    "# When installed manually (Uncomment the following)\n",
    "#import os\n",
    "#import sys\n",
    "#sys.path.append(\"monk_v1/\");\n",
    "#sys.path.append(\"monk_v1/monk/\");\n",
    "#from monk.gluon_prototype import prototype"
   ]
  },
  {
   "cell_type": "code",
   "execution_count": null,
   "metadata": {},
   "outputs": [],
   "source": [
    "# Download trained weights"
   ]
  },
  {
   "cell_type": "code",
   "execution_count": null,
   "metadata": {},
   "outputs": [],
   "source": [
    "! wget --load-cookies /tmp/cookies.txt \"https://docs.google.com/uc?export=download&confirm=$(wget --save-cookies /tmp/cookies.txt --keep-session-cookies --no-check-certificate 'https://docs.google.com/uc?export=download&id=1kt6OIGM2wontsML694bc9wHML1mMX9pI' -O- | sed -rn 's/.*confirm=([0-9A-Za-z_]+).*/\\1\\n/p')&id=1kt6OIGM2wontsML694bc9wHML1mMX9pI\" -O cls_places365_trained.zip && rm -rf /tmp/cookies.txt"
   ]
  },
  {
   "cell_type": "code",
   "execution_count": 7,
   "metadata": {},
   "outputs": [],
   "source": [
    "! unzip -qq cls_places365_trained.zip"
   ]
  },
  {
   "cell_type": "code",
   "execution_count": 17,
   "metadata": {},
   "outputs": [
    {
     "name": "stdout",
     "output_type": "stream",
     "text": [
      "Mxnet Version: 1.5.0\n",
      "\n",
      "Model Details\n",
      "    Loading model - workspace/New_Project/Using-vgg16_epoch20/output/models/final-symbol.json\n",
      "    Model loaded!\n",
      "\n",
      "Experiment Details\n",
      "    Project: New_Project\n",
      "    Experiment: Using-vgg16_epoch20\n",
      "    Dir: /home/ubuntu/workspace/New_Project/Using-vgg16_epoch20/\n",
      "\n"
     ]
    }
   ],
   "source": [
    "# Load project in inference mode\n",
    "\n",
    "gtf = prototype(verbose=1);\n",
    "gtf.Prototype(\"New_Project\", \"Using-vgg16_epoch20\", eval_infer=True);"
   ]
  },
  {
   "cell_type": "code",
   "execution_count": null,
   "metadata": {},
   "outputs": [],
   "source": [
    "# Infer"
   ]
  },
  {
   "cell_type": "code",
   "execution_count": 25,
   "metadata": {},
   "outputs": [
    {
     "name": "stdout",
     "output_type": "stream",
     "text": [
      "Prediction\n",
      "    Image name:         test_256/Places365_test_00231227.jpg\n",
      "    Predicted class:      ice_skating_rink_indoor\n",
      "    Predicted score:      16.899547576904297\n",
      "\n"
     ]
    },
    {
     "data": {
      "image/jpeg": "[encoded data removed]",
      "text/plain": [
       "<IPython.core.display.Image object>"
      ]
     },
     "execution_count": 25,
     "metadata": {},
     "output_type": "execute_result"
    }
   ],
   "source": [
    "img_name = \"test_256/Places365_test_00231227.jpg\"\n",
    "predictions = gtf.Infer(img_name=img_name);\n",
    "from IPython.display import Image\n",
    "Image(filename=img_name)"
   ]
  },
  {
   "cell_type": "code",
   "execution_count": 28,
   "metadata": {},
   "outputs": [
    {
     "name": "stdout",
     "output_type": "stream",
     "text": [
      "Prediction\n",
      "    Image name:         test_256/Places365_test_00218427.jpg\n",
      "    Predicted class:      dressing_room\n",
      "    Predicted score:      19.40629768371582\n",
      "\n"
     ]
    },
    {
     "data": {
      "image/jpeg": "[encoded data removed]",
      "text/plain": [
       "<IPython.core.display.Image object>"
      ]
     },
     "execution_count": 28,
     "metadata": {},
     "output_type": "execute_result"
    }
   ],
   "source": [
    "img_name = \"test_256/Places365_test_00218427.jpg\"\n",
    "predictions = gtf.Infer(img_name=img_name);\n",
    "from IPython.display import Image\n",
    "Image(filename=img_name)"
   ]
  },
  {
   "cell_type": "markdown",
   "metadata": {},
   "source": [
    "# Training a classifier using monk's default mode"
   ]
  },
  {
   "cell_type": "code",
   "execution_count": null,
   "metadata": {},
   "outputs": [],
   "source": [
    "# Using mxnet-gluon backend \n",
    "from monk.gluon_prototype import prototype\n",
    "\n",
    "# For pytorch backend\n",
    "#from monk.pytorch_prototype import prototype\n",
    "\n",
    "# For Keras backend\n",
    "#from monk.keras_prototype import prototype"
   ]
  },
  {
   "cell_type": "code",
   "execution_count": null,
   "metadata": {},
   "outputs": [],
   "source": [
    "from gluon_prototype import prototype\n",
    "gtf = prototype(verbose=1);\n",
    "gtf.Prototype(\"Places_365\", \"Experiment\");"
   ]
  },
  {
   "cell_type": "code",
   "execution_count": null,
   "metadata": {},
   "outputs": [],
   "source": [
    "gtf.Default(dataset_path=\"train/\",\n",
    "            path_to_csv=\"labels.csv\", \n",
    "            model_name=\"vgg16\",\n",
    "            freeze_base_network=False,\n",
    "            num_epochs=20);"
   ]
  },
  {
   "cell_type": "code",
   "execution_count": null,
   "metadata": {},
   "outputs": [],
   "source": [
    "gtf.Train();"
   ]
  },
  {
   "cell_type": "code",
   "execution_count": null,
   "metadata": {},
   "outputs": [],
   "source": [
    "# To check model on test images\n",
    "gtf = prototype(verbose=1);\n",
    "gtf.Prototype(\"Places_365\", \"Experiment\", eval_infer=True);"
   ]
  },
  {
   "cell_type": "code",
   "execution_count": null,
   "metadata": {},
   "outputs": [],
   "source": [
    "img_name = \"test_256/Places365_test_00151496.jpg\" \n",
    "predictions = gtf.Infer(img_name=img_name);\n",
    "from IPython.display import Image\n",
    "Image(filename=img_name)"
   ]
  },
  {
   "cell_type": "code",
   "execution_count": null,
   "metadata": {},
   "outputs": [],
   "source": [
    "img_name = \"test_256/Places365_test_00208427.jpg\" \n",
    "predictions = gtf.Infer(img_name=img_name);\n",
    "from IPython.display import Image\n",
    "Image(filename=img_name)"
   ]
  },
  {
   "cell_type": "code",
   "execution_count": 1,
   "metadata": {},
   "outputs": [],
   "source": []
  },
  {
   "cell_type": "code",
   "execution_count": 2,
   "metadata": {},
   "outputs": [],
   "source": []
  },
  {
   "cell_type": "code",
   "execution_count": null,
   "metadata": {},
   "outputs": [],
   "source": []
  }
 ],
 "metadata": {
  "kernelspec": {
   "display_name": "Python 3",
   "language": "python",
   "name": "python3"
  },
  "language_info": {
   "codemirror_mode": {
    "name": "ipython",
    "version": 3
   },
   "file_extension": ".py",
   "mimetype": "text/x-python",
   "name": "python",
   "nbconvert_exporter": "python",
   "pygments_lexer": "ipython3",
   "version": "3.6.9"
  }
 },
 "nbformat": 4,
 "nbformat_minor": 4
}
